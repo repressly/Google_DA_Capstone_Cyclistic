{
 "cells": [
  {
   "cell_type": "markdown",
   "id": "6552c21a",
   "metadata": {
    "slideshow": {
     "slide_type": "slide"
    }
   },
   "source": [
    " # Case Study: How Does a Bike-Share Navigate Speedy Success?\n",
    " Report by Natalia \\\n",
    " last updated on 15.12.2022"
   ]
  },
  {
   "cell_type": "markdown",
   "id": "e7fcd00a",
   "metadata": {
    "slideshow": {
     "slide_type": "slide"
    }
   },
   "source": [
    "**Ask**\n",
    "\n",
    "Cyclistic has updated its company goal: _design marketing strategies aimed at converting casual riders into annual members._\n",
    "\n",
    "The part assigned to a data analyst in this case is to answer the question\n",
    "<br>\n",
    "<br>\n",
    "\n",
    "<div align=\"center\"><b> How do annual members and casual riders use Cyclistic bikes differently? </b></div>\n",
    "<br>\n",
    "given the answer should be data-driven based on the information over the last year (2019). Data insights and visualisations are a part of that answer.\n",
    "\n",
    "_Key stakeholders_ are Cyclistic executives, director of marketing, who is also the direct superior, and the marketing analytics team."
   ]
  },
  {
   "cell_type": "markdown",
   "id": "bd706c00",
   "metadata": {
    "slideshow": {
     "slide_type": "slide"
    }
   },
   "source": [
    "**Prepare**\n",
    "* Data is taken from [open data source](https://divvy-tripdata.s3.amazonaws.com/index.html).\n",
    "* Data is stored in csv files and zip archives, either on monthly or quarterly basis respectively.\n",
    "* The initial dataset has 12 variables. Since there is some demographic data, there is certainly a possibility to find meaningful trends."
   ]
  },
  {
   "cell_type": "markdown",
   "id": "8aafd994",
   "metadata": {
    "slideshow": {
     "slide_type": "slide"
    }
   },
   "source": [
    "**Process**\n",
    "\n",
    "Data processing has been done by using a jupyter notebook and appropriate python libraries. These tools fit well since\n",
    "* pandas can effectively process the given amount of data and \n",
    "* jupyter notebook allows to create slideshows, which are easy to follow along the main points and deep dive into the coding part.\n",
    "<br>\n",
    "<br>\n",
    "\n",
    "As for the cleaning part, some csv files had deviating column names, missing values and incorrect data format. To ensure the data integrity,\n",
    "* column names have been unified,\n",
    "* observations with missing values have been erased,\n",
    "* data format has been fixed,\n",
    "* two new columns _\"ride_length\"_ and _\"weekday\"_ have been added to amplify consistency.\n",
    "<br>    \n",
    "\n",
    "* The data has been verified after every major manipulation by computational means.\n",
    "* The entire data cleaning process is stored in the cells below and supplied with comments.\n",
    "* The data has been cleaned, merged into a single dataset _\"trips_v1.csv\"_ and sorted by the column _\"trip_id\"_ in ascending order."
   ]
  },
  {
   "cell_type": "code",
   "execution_count": 148,
   "id": "79e8341c",
   "metadata": {
    "slideshow": {
     "slide_type": "subslide"
    }
   },
   "outputs": [],
   "source": [
    "# libraries used\n",
    "import pandas as pd\n",
    "import numpy as np\n",
    "from matplotlib import cm\n",
    "import plotly.express as px\n",
    "import plotly.graph_objects as go\n",
    "import plotly.offline as pyo\n",
    "from collections import Counter\n",
    "import matplotlib.pyplot as plt"
   ]
  },
  {
   "cell_type": "code",
   "execution_count": 40,
   "id": "208262d0",
   "metadata": {
    "slideshow": {
     "slide_type": "subslide"
    }
   },
   "outputs": [],
   "source": [
    "# read data to csv\n",
    "df1 = pd.read_csv(\"Divvy_Trips_2019_Q2.csv\")\n",
    "df2 = pd.read_csv(\"Divvy_Trips_2019_Q3.csv\")\n",
    "df3 = pd.read_csv(\"Divvy_Trips_2019_Q4.csv\")\n",
    "df4 = pd.read_csv(\"Divvy_Trips_2019_Q1.csv\")\n",
    "\n",
    "# explore every dataset with df.head(), df.tail(), df.columns\n",
    "# df1 is problematic at first look"
   ]
  },
  {
   "cell_type": "code",
   "execution_count": 42,
   "id": "9b0405b4",
   "metadata": {
    "slideshow": {
     "slide_type": "subslide"
    }
   },
   "outputs": [],
   "source": [
    "# changes to df1 - unified column names\n",
    "df1.rename(columns={'01 - Rental Details Rental ID': 'trip_id',\n",
    "                    '01 - Rental Details Local Start Time': 'start_time',\n",
    "                    '01 - Rental Details Local End Time': 'end_time',\n",
    "                    '01 - Rental Details Bike ID': 'bikeid',\n",
    "                    '01 - Rental Details Duration In Seconds Uncapped': 'tripduration',\n",
    "                    '03 - Rental Start Station ID': 'from_station_id',\n",
    "                    '03 - Rental Start Station Name': 'from_station_name',\n",
    "                    '02 - Rental End Station ID': 'to_station_id',\n",
    "                    '02 - Rental End Station Name': 'to_station_name',\n",
    "                    'User Type': 'usertype',\n",
    "                    'Member Gender': 'gender',\n",
    "                    '05 - Member Details Member Birthday Year': 'birthyear'},\n",
    "           inplace=True)"
   ]
  },
  {
   "cell_type": "code",
   "execution_count": 45,
   "id": "6a957e7c",
   "metadata": {
    "slideshow": {
     "slide_type": "subslide"
    }
   },
   "outputs": [],
   "source": [
    "# merge 4 datasets for 4 quartals of 2019 into one dataset\n",
    "all_trips = pd.concat([df1, df2, df3, df4], ignore_index=True)"
   ]
  },
  {
   "cell_type": "code",
   "execution_count": 51,
   "id": "7e791695",
   "metadata": {
    "slideshow": {
     "slide_type": "subslide"
    }
   },
   "outputs": [],
   "source": [
    "# unify columns names\n",
    "all_trips.rename(columns={'bikeid': 'bike_id',\n",
    "                          'tripduration': 'trip_duration',\n",
    "                          'usertype': 'user_type',\n",
    "                          'birthyear': 'birth_year'},\n",
    "                   inplace=True)"
   ]
  },
  {
   "cell_type": "code",
   "execution_count": 53,
   "id": "b5e03997",
   "metadata": {
    "slideshow": {
     "slide_type": "subslide"
    }
   },
   "outputs": [
    {
     "data": {
      "text/plain": [
       "trip_id                   0\n",
       "start_time                0\n",
       "end_time                  0\n",
       "bike_id                   0\n",
       "trip_duration             0\n",
       "from_station_id           0\n",
       "from_station_name         0\n",
       "to_station_id             0\n",
       "to_station_name           0\n",
       "user_type                 0\n",
       "gender               559206\n",
       "birth_year           538751\n",
       "dtype: int64"
      ]
     },
     "execution_count": 53,
     "metadata": {},
     "output_type": "execute_result"
    }
   ],
   "source": [
    "# check for missing values\n",
    "all_trips.isnull().sum()"
   ]
  },
  {
   "cell_type": "code",
   "execution_count": 54,
   "id": "fed7406c",
   "metadata": {
    "slideshow": {
     "slide_type": "subslide"
    }
   },
   "outputs": [],
   "source": [
    "# drop missing values\n",
    "clean_trips = all_trips.dropna(axis=0, how='any', inplace=False)"
   ]
  },
  {
   "cell_type": "code",
   "execution_count": 63,
   "id": "bcf00a6f",
   "metadata": {
    "slideshow": {
     "slide_type": "subslide"
    }
   },
   "outputs": [
    {
     "name": "stdout",
     "output_type": "stream",
     "text": [
      "trip_id              0\n",
      "start_time           0\n",
      "end_time             0\n",
      "bike_id              0\n",
      "trip_duration        0\n",
      "from_station_id      0\n",
      "from_station_name    0\n",
      "to_station_id        0\n",
      "to_station_name      0\n",
      "user_type            0\n",
      "gender               0\n",
      "birth_year           0\n",
      "dtype: int64\n",
      "<class 'pandas.core.frame.DataFrame'>\n",
      "RangeIndex: 3258796 entries, 0 to 3258795\n",
      "Data columns (total 12 columns):\n",
      " #   Column             Dtype  \n",
      "---  ------             -----  \n",
      " 0   trip_id            int64  \n",
      " 1   start_time         object \n",
      " 2   end_time           object \n",
      " 3   bike_id            int64  \n",
      " 4   trip_duration      object \n",
      " 5   from_station_id    int64  \n",
      " 6   from_station_name  object \n",
      " 7   to_station_id      int64  \n",
      " 8   to_station_name    object \n",
      " 9   user_type          object \n",
      " 10  gender             object \n",
      " 11  birth_year         float64\n",
      "dtypes: float64(1), int64(4), object(7)\n",
      "memory usage: 298.4+ MB\n"
     ]
    }
   ],
   "source": [
    "# quick check\n",
    "print(clean_trips.isnull().sum())\n",
    "clean_trips.info()"
   ]
  },
  {
   "cell_type": "code",
   "execution_count": 60,
   "id": "b5a40262",
   "metadata": {
    "collapsed": true,
    "slideshow": {
     "slide_type": "subslide"
    }
   },
   "outputs": [
    {
     "name": "stderr",
     "output_type": "stream",
     "text": [
      "/Users/andrei.bazarenko/anaconda3/envs/maps/lib/python3.8/site-packages/pandas/util/_decorators.py:311: SettingWithCopyWarning: \n",
      "A value is trying to be set on a copy of a slice from a DataFrame\n",
      "\n",
      "See the caveats in the documentation: https://pandas.pydata.org/pandas-docs/stable/user_guide/indexing.html#returning-a-view-versus-a-copy\n",
      "  return func(*args, **kwargs)\n"
     ]
    }
   ],
   "source": [
    "# sort the cleaned df\n",
    "clean_trips.sort_values(by=[\"trip_id\"], ascending=True, inplace=True, ignore_index=True)"
   ]
  },
  {
   "cell_type": "code",
   "execution_count": 106,
   "id": "f88f7cb8",
   "metadata": {
    "slideshow": {
     "slide_type": "subslide"
    }
   },
   "outputs": [
    {
     "data": {
      "text/plain": [
       "trip_id                       int64\n",
       "start_time           datetime64[ns]\n",
       "end_time             datetime64[ns]\n",
       "bike_id                       int64\n",
       "trip_duration               float64\n",
       "from_station_id               int64\n",
       "from_station_name            object\n",
       "to_station_id                 int64\n",
       "to_station_name              object\n",
       "user_type                    object\n",
       "gender                       object\n",
       "birth_year                    int64\n",
       "dtype: object"
      ]
     },
     "execution_count": 106,
     "metadata": {},
     "output_type": "execute_result"
    }
   ],
   "source": [
    "# check data types and correct them where appropriate\n",
    "clean_trips.dtypes"
   ]
  },
  {
   "cell_type": "code",
   "execution_count": 79,
   "id": "72886162",
   "metadata": {
    "collapsed": true,
    "slideshow": {
     "slide_type": "subslide"
    }
   },
   "outputs": [
    {
     "name": "stderr",
     "output_type": "stream",
     "text": [
      "/Users/andrei.bazarenko/anaconda3/envs/maps/lib/python3.8/site-packages/pandas/core/generic.py:5516: SettingWithCopyWarning: \n",
      "A value is trying to be set on a copy of a slice from a DataFrame.\n",
      "Try using .loc[row_indexer,col_indexer] = value instead\n",
      "\n",
      "See the caveats in the documentation: https://pandas.pydata.org/pandas-docs/stable/user_guide/indexing.html#returning-a-view-versus-a-copy\n",
      "  self[name] = value\n"
     ]
    }
   ],
   "source": [
    "clean_trips.birth_year = clean_trips.birth_year.astype(int)"
   ]
  },
  {
   "cell_type": "code",
   "execution_count": 94,
   "id": "b08cde69",
   "metadata": {
    "collapsed": true,
    "slideshow": {
     "slide_type": "subslide"
    }
   },
   "outputs": [
    {
     "name": "stderr",
     "output_type": "stream",
     "text": [
      "/Users/andrei.bazarenko/anaconda3/envs/maps/lib/python3.8/site-packages/pandas/core/generic.py:5516: SettingWithCopyWarning: \n",
      "A value is trying to be set on a copy of a slice from a DataFrame.\n",
      "Try using .loc[row_indexer,col_indexer] = value instead\n",
      "\n",
      "See the caveats in the documentation: https://pandas.pydata.org/pandas-docs/stable/user_guide/indexing.html#returning-a-view-versus-a-copy\n",
      "  self[name] = value\n"
     ]
    }
   ],
   "source": [
    "clean_trips.trip_duration = clean_trips.trip_duration.str.replace(',', '').astype(float)\n"
   ]
  },
  {
   "cell_type": "code",
   "execution_count": 101,
   "id": "efaf5dae",
   "metadata": {
    "collapsed": true,
    "slideshow": {
     "slide_type": "subslide"
    }
   },
   "outputs": [
    {
     "name": "stderr",
     "output_type": "stream",
     "text": [
      "/var/folders/5j/8vpr0dc917z6_f6bqldpnx280000gq/T/ipykernel_31748/4105319507.py:1: SettingWithCopyWarning: \n",
      "A value is trying to be set on a copy of a slice from a DataFrame.\n",
      "Try using .loc[row_indexer,col_indexer] = value instead\n",
      "\n",
      "See the caveats in the documentation: https://pandas.pydata.org/pandas-docs/stable/user_guide/indexing.html#returning-a-view-versus-a-copy\n",
      "  clean_trips['start_time'] = pd.to_datetime(clean_trips['start_time'].str.strip(),\n"
     ]
    }
   ],
   "source": [
    "clean_trips['start_time'] = pd.to_datetime(clean_trips['start_time'].str.strip(),\n",
    "                                                         format='%Y/%m/%d %H:%M:%S')"
   ]
  },
  {
   "cell_type": "code",
   "execution_count": 104,
   "id": "0420e629",
   "metadata": {
    "collapsed": true,
    "slideshow": {
     "slide_type": "subslide"
    }
   },
   "outputs": [
    {
     "name": "stderr",
     "output_type": "stream",
     "text": [
      "/var/folders/5j/8vpr0dc917z6_f6bqldpnx280000gq/T/ipykernel_31748/1824091957.py:1: SettingWithCopyWarning: \n",
      "A value is trying to be set on a copy of a slice from a DataFrame.\n",
      "Try using .loc[row_indexer,col_indexer] = value instead\n",
      "\n",
      "See the caveats in the documentation: https://pandas.pydata.org/pandas-docs/stable/user_guide/indexing.html#returning-a-view-versus-a-copy\n",
      "  clean_trips['end_time'] = pd.to_datetime(clean_trips['end_time'].str.strip(),\n"
     ]
    }
   ],
   "source": [
    "clean_trips['end_time'] = pd.to_datetime(clean_trips['end_time'].str.strip(),\n",
    "                                                         format='%Y/%m/%d %H:%M:%S')"
   ]
  },
  {
   "cell_type": "code",
   "execution_count": 116,
   "id": "6eece585",
   "metadata": {
    "slideshow": {
     "slide_type": "subslide"
    }
   },
   "outputs": [],
   "source": [
    "clean_trips.to_csv(\"trips.csv\", index_label=False)"
   ]
  },
  {
   "cell_type": "code",
   "execution_count": 26,
   "id": "2f746340",
   "metadata": {
    "slideshow": {
     "slide_type": "skip"
    }
   },
   "outputs": [
    {
     "data": {
      "text/html": [
       "<div>\n",
       "<style scoped>\n",
       "    .dataframe tbody tr th:only-of-type {\n",
       "        vertical-align: middle;\n",
       "    }\n",
       "\n",
       "    .dataframe tbody tr th {\n",
       "        vertical-align: top;\n",
       "    }\n",
       "\n",
       "    .dataframe thead th {\n",
       "        text-align: right;\n",
       "    }\n",
       "</style>\n",
       "<table border=\"1\" class=\"dataframe\">\n",
       "  <thead>\n",
       "    <tr style=\"text-align: right;\">\n",
       "      <th></th>\n",
       "      <th>trip_id</th>\n",
       "      <th>start_time</th>\n",
       "      <th>end_time</th>\n",
       "      <th>bike_id</th>\n",
       "      <th>trip_duration</th>\n",
       "      <th>from_station_id</th>\n",
       "      <th>from_station_name</th>\n",
       "      <th>to_station_id</th>\n",
       "      <th>to_station_name</th>\n",
       "      <th>user_type</th>\n",
       "      <th>gender</th>\n",
       "      <th>birth_year</th>\n",
       "    </tr>\n",
       "  </thead>\n",
       "  <tbody>\n",
       "    <tr>\n",
       "      <th>0</th>\n",
       "      <td>21742443</td>\n",
       "      <td>2019-01-01 00:04:37</td>\n",
       "      <td>2019-01-01 00:11:07</td>\n",
       "      <td>2167</td>\n",
       "      <td>390.0</td>\n",
       "      <td>199</td>\n",
       "      <td>Wabash Ave &amp; Grand Ave</td>\n",
       "      <td>84</td>\n",
       "      <td>Milwaukee Ave &amp; Grand Ave</td>\n",
       "      <td>Subscriber</td>\n",
       "      <td>Male</td>\n",
       "      <td>1989</td>\n",
       "    </tr>\n",
       "    <tr>\n",
       "      <th>1</th>\n",
       "      <td>21742444</td>\n",
       "      <td>2019-01-01 00:08:13</td>\n",
       "      <td>2019-01-01 00:15:34</td>\n",
       "      <td>4386</td>\n",
       "      <td>441.0</td>\n",
       "      <td>44</td>\n",
       "      <td>State St &amp; Randolph St</td>\n",
       "      <td>624</td>\n",
       "      <td>Dearborn St &amp; Van Buren St (*)</td>\n",
       "      <td>Subscriber</td>\n",
       "      <td>Female</td>\n",
       "      <td>1990</td>\n",
       "    </tr>\n",
       "    <tr>\n",
       "      <th>2</th>\n",
       "      <td>21742445</td>\n",
       "      <td>2019-01-01 00:13:23</td>\n",
       "      <td>2019-01-01 00:27:12</td>\n",
       "      <td>1524</td>\n",
       "      <td>829.0</td>\n",
       "      <td>15</td>\n",
       "      <td>Racine Ave &amp; 18th St</td>\n",
       "      <td>644</td>\n",
       "      <td>Western Ave &amp; Fillmore St (*)</td>\n",
       "      <td>Subscriber</td>\n",
       "      <td>Female</td>\n",
       "      <td>1994</td>\n",
       "    </tr>\n",
       "    <tr>\n",
       "      <th>3</th>\n",
       "      <td>21742446</td>\n",
       "      <td>2019-01-01 00:13:45</td>\n",
       "      <td>2019-01-01 00:43:28</td>\n",
       "      <td>252</td>\n",
       "      <td>1783.0</td>\n",
       "      <td>123</td>\n",
       "      <td>California Ave &amp; Milwaukee Ave</td>\n",
       "      <td>176</td>\n",
       "      <td>Clark St &amp; Elm St</td>\n",
       "      <td>Subscriber</td>\n",
       "      <td>Male</td>\n",
       "      <td>1993</td>\n",
       "    </tr>\n",
       "    <tr>\n",
       "      <th>4</th>\n",
       "      <td>21742447</td>\n",
       "      <td>2019-01-01 00:14:52</td>\n",
       "      <td>2019-01-01 00:20:56</td>\n",
       "      <td>1170</td>\n",
       "      <td>364.0</td>\n",
       "      <td>173</td>\n",
       "      <td>Mies van der Rohe Way &amp; Chicago Ave</td>\n",
       "      <td>35</td>\n",
       "      <td>Streeter Dr &amp; Grand Ave</td>\n",
       "      <td>Subscriber</td>\n",
       "      <td>Male</td>\n",
       "      <td>1994</td>\n",
       "    </tr>\n",
       "  </tbody>\n",
       "</table>\n",
       "</div>"
      ],
      "text/plain": [
       "    trip_id           start_time             end_time  bike_id  trip_duration  \\\n",
       "0  21742443  2019-01-01 00:04:37  2019-01-01 00:11:07     2167          390.0   \n",
       "1  21742444  2019-01-01 00:08:13  2019-01-01 00:15:34     4386          441.0   \n",
       "2  21742445  2019-01-01 00:13:23  2019-01-01 00:27:12     1524          829.0   \n",
       "3  21742446  2019-01-01 00:13:45  2019-01-01 00:43:28      252         1783.0   \n",
       "4  21742447  2019-01-01 00:14:52  2019-01-01 00:20:56     1170          364.0   \n",
       "\n",
       "   from_station_id                    from_station_name  to_station_id  \\\n",
       "0              199               Wabash Ave & Grand Ave             84   \n",
       "1               44               State St & Randolph St            624   \n",
       "2               15                 Racine Ave & 18th St            644   \n",
       "3              123       California Ave & Milwaukee Ave            176   \n",
       "4              173  Mies van der Rohe Way & Chicago Ave             35   \n",
       "\n",
       "                  to_station_name   user_type  gender  birth_year  \n",
       "0       Milwaukee Ave & Grand Ave  Subscriber    Male        1989  \n",
       "1  Dearborn St & Van Buren St (*)  Subscriber  Female        1990  \n",
       "2   Western Ave & Fillmore St (*)  Subscriber  Female        1994  \n",
       "3               Clark St & Elm St  Subscriber    Male        1993  \n",
       "4         Streeter Dr & Grand Ave  Subscriber    Male        1994  "
      ]
     },
     "execution_count": 26,
     "metadata": {},
     "output_type": "execute_result"
    }
   ],
   "source": [
    "df=pd.read_csv(\"trips.csv\")\n",
    "df.head()"
   ]
  },
  {
   "cell_type": "code",
   "execution_count": 27,
   "id": "cd9fdbb6",
   "metadata": {},
   "outputs": [
    {
     "data": {
      "text/plain": [
       "trip_id                int64\n",
       "start_time            object\n",
       "end_time              object\n",
       "bike_id                int64\n",
       "trip_duration        float64\n",
       "from_station_id        int64\n",
       "from_station_name     object\n",
       "to_station_id          int64\n",
       "to_station_name       object\n",
       "user_type             object\n",
       "gender                object\n",
       "birth_year             int64\n",
       "dtype: object"
      ]
     },
     "execution_count": 27,
     "metadata": {},
     "output_type": "execute_result"
    }
   ],
   "source": [
    "df.dtypes"
   ]
  },
  {
   "cell_type": "code",
   "execution_count": 71,
   "id": "7d650a2a",
   "metadata": {
    "slideshow": {
     "slide_type": "subslide"
    }
   },
   "outputs": [],
   "source": [
    "df['start_time']=pd.to_datetime(df['start_time'].str.strip(),\n",
    "                                                         format='%Y/%m/%d %H:%M:%S')\n",
    "df['end_time'] = pd.to_datetime(df['end_time'].str.strip(),\n",
    "                                                         format='%Y/%m/%d %H:%M:%S')"
   ]
  },
  {
   "cell_type": "code",
   "execution_count": 72,
   "id": "e12485ef",
   "metadata": {
    "slideshow": {
     "slide_type": "subslide"
    }
   },
   "outputs": [],
   "source": [
    "# add new column for ride length\n",
    "df['ride_length'] = df['end_time'] - df['start_time']"
   ]
  },
  {
   "cell_type": "code",
   "execution_count": 73,
   "id": "28dca7a6",
   "metadata": {},
   "outputs": [],
   "source": [
    "df['start_date'] = pd.to_datetime(df['start_time']).dt.date\n",
    "df['started_at'] = pd.to_datetime(df['start_time']).dt.time\n",
    "df['end_date'] = pd.to_datetime(df['end_time']).dt.date\n",
    "df['ended_at'] = pd.to_datetime(df['end_time']).dt.time"
   ]
  },
  {
   "cell_type": "code",
   "execution_count": 32,
   "id": "e4408fc8",
   "metadata": {
    "scrolled": true,
    "slideshow": {
     "slide_type": "subslide"
    }
   },
   "outputs": [],
   "source": [
    "# add new column for a weekday when ride has started\n",
    "# df['weekday'] = df['start_time'].dt.dayofweek - gives numbers for days, but I wanna see day names so\n",
    "df['weekday'] = df['start_time'].dt.day_name()"
   ]
  },
  {
   "cell_type": "code",
   "execution_count": 34,
   "id": "74e0b076",
   "metadata": {},
   "outputs": [],
   "source": [
    "df['ride_length_float'] = df['ride_length'] / pd.offsets.Minute(1)"
   ]
  },
  {
   "cell_type": "code",
   "execution_count": 35,
   "id": "d2424c31",
   "metadata": {},
   "outputs": [
    {
     "data": {
      "text/html": [
       "<div>\n",
       "<style scoped>\n",
       "    .dataframe tbody tr th:only-of-type {\n",
       "        vertical-align: middle;\n",
       "    }\n",
       "\n",
       "    .dataframe tbody tr th {\n",
       "        vertical-align: top;\n",
       "    }\n",
       "\n",
       "    .dataframe thead th {\n",
       "        text-align: right;\n",
       "    }\n",
       "</style>\n",
       "<table border=\"1\" class=\"dataframe\">\n",
       "  <thead>\n",
       "    <tr style=\"text-align: right;\">\n",
       "      <th></th>\n",
       "      <th>trip_id</th>\n",
       "      <th>bike_id</th>\n",
       "      <th>trip_duration</th>\n",
       "      <th>from_station_id</th>\n",
       "      <th>to_station_id</th>\n",
       "      <th>birth_year</th>\n",
       "      <th>ride_length</th>\n",
       "      <th>ride_length_float</th>\n",
       "    </tr>\n",
       "  </thead>\n",
       "  <tbody>\n",
       "    <tr>\n",
       "      <th>count</th>\n",
       "      <td>3.258796e+06</td>\n",
       "      <td>3.258796e+06</td>\n",
       "      <td>3.258796e+06</td>\n",
       "      <td>3.258796e+06</td>\n",
       "      <td>3.258796e+06</td>\n",
       "      <td>3.258796e+06</td>\n",
       "      <td>3258796</td>\n",
       "      <td>3.258796e+06</td>\n",
       "    </tr>\n",
       "    <tr>\n",
       "      <th>mean</th>\n",
       "      <td>2.391703e+07</td>\n",
       "      <td>3.390371e+03</td>\n",
       "      <td>1.070853e+03</td>\n",
       "      <td>2.049440e+02</td>\n",
       "      <td>2.054959e+02</td>\n",
       "      <td>1.984083e+03</td>\n",
       "      <td>0 days 00:17:51.119631606</td>\n",
       "      <td>1.785199e+01</td>\n",
       "    </tr>\n",
       "    <tr>\n",
       "      <th>std</th>\n",
       "      <td>1.241564e+06</td>\n",
       "      <td>1.905420e+03</td>\n",
       "      <td>2.077400e+04</td>\n",
       "      <td>1.559652e+02</td>\n",
       "      <td>1.556257e+02</td>\n",
       "      <td>1.085970e+01</td>\n",
       "      <td>0 days 05:46:12.558607595</td>\n",
       "      <td>3.462093e+02</td>\n",
       "    </tr>\n",
       "    <tr>\n",
       "      <th>min</th>\n",
       "      <td>2.174244e+07</td>\n",
       "      <td>1.000000e+00</td>\n",
       "      <td>6.100000e+01</td>\n",
       "      <td>2.000000e+00</td>\n",
       "      <td>2.000000e+00</td>\n",
       "      <td>1.759000e+03</td>\n",
       "      <td>-1 days +23:03:38</td>\n",
       "      <td>-5.636667e+01</td>\n",
       "    </tr>\n",
       "    <tr>\n",
       "      <th>25%</th>\n",
       "      <td>2.282444e+07</td>\n",
       "      <td>1.735000e+03</td>\n",
       "      <td>3.800000e+02</td>\n",
       "      <td>8.100000e+01</td>\n",
       "      <td>8.100000e+01</td>\n",
       "      <td>1.979000e+03</td>\n",
       "      <td>0 days 00:06:20</td>\n",
       "      <td>6.333333e+00</td>\n",
       "    </tr>\n",
       "    <tr>\n",
       "      <th>50%</th>\n",
       "      <td>2.397144e+07</td>\n",
       "      <td>3.465000e+03</td>\n",
       "      <td>6.310000e+02</td>\n",
       "      <td>1.760000e+02</td>\n",
       "      <td>1.760000e+02</td>\n",
       "      <td>1.987000e+03</td>\n",
       "      <td>0 days 00:10:31</td>\n",
       "      <td>1.051667e+01</td>\n",
       "    </tr>\n",
       "    <tr>\n",
       "      <th>75%</th>\n",
       "      <td>2.501124e+07</td>\n",
       "      <td>5.061000e+03</td>\n",
       "      <td>1.076000e+03</td>\n",
       "      <td>2.910000e+02</td>\n",
       "      <td>2.930000e+02</td>\n",
       "      <td>1.992000e+03</td>\n",
       "      <td>0 days 00:17:56</td>\n",
       "      <td>1.793333e+01</td>\n",
       "    </tr>\n",
       "    <tr>\n",
       "      <th>max</th>\n",
       "      <td>2.596290e+07</td>\n",
       "      <td>6.946000e+03</td>\n",
       "      <td>9.056633e+06</td>\n",
       "      <td>6.730000e+02</td>\n",
       "      <td>6.730000e+02</td>\n",
       "      <td>2.014000e+03</td>\n",
       "      <td>104 days 19:43:54</td>\n",
       "      <td>1.509439e+05</td>\n",
       "    </tr>\n",
       "  </tbody>\n",
       "</table>\n",
       "</div>"
      ],
      "text/plain": [
       "            trip_id       bike_id  trip_duration  from_station_id  \\\n",
       "count  3.258796e+06  3.258796e+06   3.258796e+06     3.258796e+06   \n",
       "mean   2.391703e+07  3.390371e+03   1.070853e+03     2.049440e+02   \n",
       "std    1.241564e+06  1.905420e+03   2.077400e+04     1.559652e+02   \n",
       "min    2.174244e+07  1.000000e+00   6.100000e+01     2.000000e+00   \n",
       "25%    2.282444e+07  1.735000e+03   3.800000e+02     8.100000e+01   \n",
       "50%    2.397144e+07  3.465000e+03   6.310000e+02     1.760000e+02   \n",
       "75%    2.501124e+07  5.061000e+03   1.076000e+03     2.910000e+02   \n",
       "max    2.596290e+07  6.946000e+03   9.056633e+06     6.730000e+02   \n",
       "\n",
       "       to_station_id    birth_year                ride_length  \\\n",
       "count   3.258796e+06  3.258796e+06                    3258796   \n",
       "mean    2.054959e+02  1.984083e+03  0 days 00:17:51.119631606   \n",
       "std     1.556257e+02  1.085970e+01  0 days 05:46:12.558607595   \n",
       "min     2.000000e+00  1.759000e+03          -1 days +23:03:38   \n",
       "25%     8.100000e+01  1.979000e+03            0 days 00:06:20   \n",
       "50%     1.760000e+02  1.987000e+03            0 days 00:10:31   \n",
       "75%     2.930000e+02  1.992000e+03            0 days 00:17:56   \n",
       "max     6.730000e+02  2.014000e+03          104 days 19:43:54   \n",
       "\n",
       "       ride_length_float  \n",
       "count       3.258796e+06  \n",
       "mean        1.785199e+01  \n",
       "std         3.462093e+02  \n",
       "min        -5.636667e+01  \n",
       "25%         6.333333e+00  \n",
       "50%         1.051667e+01  \n",
       "75%         1.793333e+01  \n",
       "max         1.509439e+05  "
      ]
     },
     "execution_count": 35,
     "metadata": {},
     "output_type": "execute_result"
    }
   ],
   "source": [
    "df.describe()"
   ]
  },
  {
   "cell_type": "code",
   "execution_count": 74,
   "id": "1e08d8f8",
   "metadata": {},
   "outputs": [],
   "source": [
    "# start_time < end_time, erase these rows\n",
    "df_distortion = df.loc[(df['ride_length'] < (df['start_time']-df['end_time']))]"
   ]
  },
  {
   "cell_type": "code",
   "execution_count": 76,
   "id": "07a5a666",
   "metadata": {},
   "outputs": [],
   "source": [
    "# drop the rows\n",
    "df.drop(index=[2961764,2961769,2961770,2961771,2961773,2961775,2961776,2961777], inplace = True)"
   ]
  },
  {
   "cell_type": "code",
   "execution_count": 86,
   "id": "944e77a9",
   "metadata": {},
   "outputs": [
    {
     "name": "stdout",
     "output_type": "stream",
     "text": [
      "104 days 19:43:54\n",
      "1490131\n"
     ]
    },
    {
     "data": {
      "text/html": [
       "<div>\n",
       "<style scoped>\n",
       "    .dataframe tbody tr th:only-of-type {\n",
       "        vertical-align: middle;\n",
       "    }\n",
       "\n",
       "    .dataframe tbody tr th {\n",
       "        vertical-align: top;\n",
       "    }\n",
       "\n",
       "    .dataframe thead th {\n",
       "        text-align: right;\n",
       "    }\n",
       "</style>\n",
       "<table border=\"1\" class=\"dataframe\">\n",
       "  <thead>\n",
       "    <tr style=\"text-align: right;\">\n",
       "      <th></th>\n",
       "      <th>trip_id</th>\n",
       "      <th>start_time</th>\n",
       "      <th>end_time</th>\n",
       "      <th>bike_id</th>\n",
       "      <th>trip_duration</th>\n",
       "      <th>from_station_id</th>\n",
       "      <th>from_station_name</th>\n",
       "      <th>to_station_id</th>\n",
       "      <th>to_station_name</th>\n",
       "      <th>user_type</th>\n",
       "      <th>gender</th>\n",
       "      <th>birth_year</th>\n",
       "      <th>ride_length</th>\n",
       "      <th>start_date</th>\n",
       "      <th>started_at</th>\n",
       "      <th>end_date</th>\n",
       "      <th>ended_at</th>\n",
       "      <th>weekday</th>\n",
       "      <th>ride_length_float</th>\n",
       "    </tr>\n",
       "  </thead>\n",
       "  <tbody>\n",
       "    <tr>\n",
       "      <th>1490131</th>\n",
       "      <td>23798837</td>\n",
       "      <td>2019-07-16 18:17:58</td>\n",
       "      <td>2019-10-29 14:01:52</td>\n",
       "      <td>1229</td>\n",
       "      <td>9056633.0</td>\n",
       "      <td>418</td>\n",
       "      <td>Ellis Ave &amp; 53rd St</td>\n",
       "      <td>671</td>\n",
       "      <td>HUBBARD ST BIKE CHECKING (LBS-WH-TEST)</td>\n",
       "      <td>Subscriber</td>\n",
       "      <td>Male</td>\n",
       "      <td>1999</td>\n",
       "      <td>104 days 19:43:54</td>\n",
       "      <td>2019-07-16</td>\n",
       "      <td>18:17:58</td>\n",
       "      <td>2019-10-29</td>\n",
       "      <td>14:01:52</td>\n",
       "      <td>Tuesday</td>\n",
       "      <td>150943.9</td>\n",
       "    </tr>\n",
       "  </tbody>\n",
       "</table>\n",
       "</div>"
      ],
      "text/plain": [
       "          trip_id          start_time            end_time  bike_id  \\\n",
       "1490131  23798837 2019-07-16 18:17:58 2019-10-29 14:01:52     1229   \n",
       "\n",
       "         trip_duration  from_station_id    from_station_name  to_station_id  \\\n",
       "1490131      9056633.0              418  Ellis Ave & 53rd St            671   \n",
       "\n",
       "                                to_station_name   user_type gender  \\\n",
       "1490131  HUBBARD ST BIKE CHECKING (LBS-WH-TEST)  Subscriber   Male   \n",
       "\n",
       "         birth_year       ride_length  start_date started_at    end_date  \\\n",
       "1490131        1999 104 days 19:43:54  2019-07-16   18:17:58  2019-10-29   \n",
       "\n",
       "         ended_at  weekday  ride_length_float  \n",
       "1490131  14:01:52  Tuesday           150943.9  "
      ]
     },
     "execution_count": 86,
     "metadata": {},
     "output_type": "execute_result"
    }
   ],
   "source": [
    "# the max for ride_length is too big. check it.\n",
    "print(df['ride_length'].max())\n",
    "print(df['ride_length'].idxmax())\n",
    "df[1490131:1490132]"
   ]
  },
  {
   "cell_type": "code",
   "execution_count": 90,
   "id": "dfd19069",
   "metadata": {
    "slideshow": {
     "slide_type": "subslide"
    }
   },
   "outputs": [],
   "source": [
    "# saving changes\n",
    "df.to_csv(\"trips_v1.csv\", index_label=False)"
   ]
  },
  {
   "cell_type": "markdown",
   "id": "74bee3e7",
   "metadata": {
    "slideshow": {
     "slide_type": "slide"
    }
   },
   "source": [
    "**Analyze**\n",
    "* The ready to work with clean merged dataset contains 19 variables.\n",
    "* Upon further inspection there have been found unlogical observations where _start_time_ > _end_time_. These observations have been erased, so the total number of observations has reduced to 3.258.788.\n",
    "<br>\n",
    "\n",
    "* The dataset has been aggregated in different subsets to calculate statistics and draw graphs.\n",
    "* Average ride length is *18 minutes*. \n",
    "* Minimum trip duration is *1 minute*. Looks like someone did not like the bicycle and put it back right away.\n",
    "* There is an interesting outlier in the dataset - a male subscriber rented out a bicycle for *100 days*, probably for a prolonged country trip."
   ]
  },
  {
   "cell_type": "code",
   "execution_count": 2,
   "id": "7f82ce88",
   "metadata": {
    "slideshow": {
     "slide_type": "skip"
    }
   },
   "outputs": [
    {
     "data": {
      "text/html": [
       "<div>\n",
       "<style scoped>\n",
       "    .dataframe tbody tr th:only-of-type {\n",
       "        vertical-align: middle;\n",
       "    }\n",
       "\n",
       "    .dataframe tbody tr th {\n",
       "        vertical-align: top;\n",
       "    }\n",
       "\n",
       "    .dataframe thead th {\n",
       "        text-align: right;\n",
       "    }\n",
       "</style>\n",
       "<table border=\"1\" class=\"dataframe\">\n",
       "  <thead>\n",
       "    <tr style=\"text-align: right;\">\n",
       "      <th></th>\n",
       "      <th>trip_id</th>\n",
       "      <th>start_time</th>\n",
       "      <th>end_time</th>\n",
       "      <th>bike_id</th>\n",
       "      <th>trip_duration</th>\n",
       "      <th>from_station_id</th>\n",
       "      <th>from_station_name</th>\n",
       "      <th>to_station_id</th>\n",
       "      <th>to_station_name</th>\n",
       "      <th>user_type</th>\n",
       "      <th>gender</th>\n",
       "      <th>birth_year</th>\n",
       "      <th>ride_length</th>\n",
       "      <th>start_date</th>\n",
       "      <th>started_at</th>\n",
       "      <th>end_date</th>\n",
       "      <th>ended_at</th>\n",
       "      <th>weekday</th>\n",
       "      <th>ride_length_float</th>\n",
       "    </tr>\n",
       "  </thead>\n",
       "  <tbody>\n",
       "    <tr>\n",
       "      <th>0</th>\n",
       "      <td>21742443</td>\n",
       "      <td>2019-01-01 00:04:37</td>\n",
       "      <td>2019-01-01 00:11:07</td>\n",
       "      <td>2167</td>\n",
       "      <td>390.0</td>\n",
       "      <td>199</td>\n",
       "      <td>Wabash Ave &amp; Grand Ave</td>\n",
       "      <td>84</td>\n",
       "      <td>Milwaukee Ave &amp; Grand Ave</td>\n",
       "      <td>Subscriber</td>\n",
       "      <td>Male</td>\n",
       "      <td>1989</td>\n",
       "      <td>0 days 00:06:30</td>\n",
       "      <td>2019-01-01</td>\n",
       "      <td>00:04:37</td>\n",
       "      <td>2019-01-01</td>\n",
       "      <td>00:11:07</td>\n",
       "      <td>Tuesday</td>\n",
       "      <td>6.500000</td>\n",
       "    </tr>\n",
       "    <tr>\n",
       "      <th>1</th>\n",
       "      <td>21742444</td>\n",
       "      <td>2019-01-01 00:08:13</td>\n",
       "      <td>2019-01-01 00:15:34</td>\n",
       "      <td>4386</td>\n",
       "      <td>441.0</td>\n",
       "      <td>44</td>\n",
       "      <td>State St &amp; Randolph St</td>\n",
       "      <td>624</td>\n",
       "      <td>Dearborn St &amp; Van Buren St (*)</td>\n",
       "      <td>Subscriber</td>\n",
       "      <td>Female</td>\n",
       "      <td>1990</td>\n",
       "      <td>0 days 00:07:21</td>\n",
       "      <td>2019-01-01</td>\n",
       "      <td>00:08:13</td>\n",
       "      <td>2019-01-01</td>\n",
       "      <td>00:15:34</td>\n",
       "      <td>Tuesday</td>\n",
       "      <td>7.350000</td>\n",
       "    </tr>\n",
       "    <tr>\n",
       "      <th>2</th>\n",
       "      <td>21742445</td>\n",
       "      <td>2019-01-01 00:13:23</td>\n",
       "      <td>2019-01-01 00:27:12</td>\n",
       "      <td>1524</td>\n",
       "      <td>829.0</td>\n",
       "      <td>15</td>\n",
       "      <td>Racine Ave &amp; 18th St</td>\n",
       "      <td>644</td>\n",
       "      <td>Western Ave &amp; Fillmore St (*)</td>\n",
       "      <td>Subscriber</td>\n",
       "      <td>Female</td>\n",
       "      <td>1994</td>\n",
       "      <td>0 days 00:13:49</td>\n",
       "      <td>2019-01-01</td>\n",
       "      <td>00:13:23</td>\n",
       "      <td>2019-01-01</td>\n",
       "      <td>00:27:12</td>\n",
       "      <td>Tuesday</td>\n",
       "      <td>13.816667</td>\n",
       "    </tr>\n",
       "    <tr>\n",
       "      <th>3</th>\n",
       "      <td>21742446</td>\n",
       "      <td>2019-01-01 00:13:45</td>\n",
       "      <td>2019-01-01 00:43:28</td>\n",
       "      <td>252</td>\n",
       "      <td>1783.0</td>\n",
       "      <td>123</td>\n",
       "      <td>California Ave &amp; Milwaukee Ave</td>\n",
       "      <td>176</td>\n",
       "      <td>Clark St &amp; Elm St</td>\n",
       "      <td>Subscriber</td>\n",
       "      <td>Male</td>\n",
       "      <td>1993</td>\n",
       "      <td>0 days 00:29:43</td>\n",
       "      <td>2019-01-01</td>\n",
       "      <td>00:13:45</td>\n",
       "      <td>2019-01-01</td>\n",
       "      <td>00:43:28</td>\n",
       "      <td>Tuesday</td>\n",
       "      <td>29.716667</td>\n",
       "    </tr>\n",
       "    <tr>\n",
       "      <th>4</th>\n",
       "      <td>21742447</td>\n",
       "      <td>2019-01-01 00:14:52</td>\n",
       "      <td>2019-01-01 00:20:56</td>\n",
       "      <td>1170</td>\n",
       "      <td>364.0</td>\n",
       "      <td>173</td>\n",
       "      <td>Mies van der Rohe Way &amp; Chicago Ave</td>\n",
       "      <td>35</td>\n",
       "      <td>Streeter Dr &amp; Grand Ave</td>\n",
       "      <td>Subscriber</td>\n",
       "      <td>Male</td>\n",
       "      <td>1994</td>\n",
       "      <td>0 days 00:06:04</td>\n",
       "      <td>2019-01-01</td>\n",
       "      <td>00:14:52</td>\n",
       "      <td>2019-01-01</td>\n",
       "      <td>00:20:56</td>\n",
       "      <td>Tuesday</td>\n",
       "      <td>6.066667</td>\n",
       "    </tr>\n",
       "  </tbody>\n",
       "</table>\n",
       "</div>"
      ],
      "text/plain": [
       "    trip_id           start_time             end_time  bike_id  trip_duration  \\\n",
       "0  21742443  2019-01-01 00:04:37  2019-01-01 00:11:07     2167          390.0   \n",
       "1  21742444  2019-01-01 00:08:13  2019-01-01 00:15:34     4386          441.0   \n",
       "2  21742445  2019-01-01 00:13:23  2019-01-01 00:27:12     1524          829.0   \n",
       "3  21742446  2019-01-01 00:13:45  2019-01-01 00:43:28      252         1783.0   \n",
       "4  21742447  2019-01-01 00:14:52  2019-01-01 00:20:56     1170          364.0   \n",
       "\n",
       "   from_station_id                    from_station_name  to_station_id  \\\n",
       "0              199               Wabash Ave & Grand Ave             84   \n",
       "1               44               State St & Randolph St            624   \n",
       "2               15                 Racine Ave & 18th St            644   \n",
       "3              123       California Ave & Milwaukee Ave            176   \n",
       "4              173  Mies van der Rohe Way & Chicago Ave             35   \n",
       "\n",
       "                  to_station_name   user_type  gender  birth_year  \\\n",
       "0       Milwaukee Ave & Grand Ave  Subscriber    Male        1989   \n",
       "1  Dearborn St & Van Buren St (*)  Subscriber  Female        1990   \n",
       "2   Western Ave & Fillmore St (*)  Subscriber  Female        1994   \n",
       "3               Clark St & Elm St  Subscriber    Male        1993   \n",
       "4         Streeter Dr & Grand Ave  Subscriber    Male        1994   \n",
       "\n",
       "       ride_length  start_date started_at    end_date  ended_at  weekday  \\\n",
       "0  0 days 00:06:30  2019-01-01   00:04:37  2019-01-01  00:11:07  Tuesday   \n",
       "1  0 days 00:07:21  2019-01-01   00:08:13  2019-01-01  00:15:34  Tuesday   \n",
       "2  0 days 00:13:49  2019-01-01   00:13:23  2019-01-01  00:27:12  Tuesday   \n",
       "3  0 days 00:29:43  2019-01-01   00:13:45  2019-01-01  00:43:28  Tuesday   \n",
       "4  0 days 00:06:04  2019-01-01   00:14:52  2019-01-01  00:20:56  Tuesday   \n",
       "\n",
       "   ride_length_float  \n",
       "0           6.500000  \n",
       "1           7.350000  \n",
       "2          13.816667  \n",
       "3          29.716667  \n",
       "4           6.066667  "
      ]
     },
     "execution_count": 2,
     "metadata": {},
     "output_type": "execute_result"
    }
   ],
   "source": [
    "df=pd.read_csv(\"trips_v1.csv\")\n",
    "df.head()"
   ]
  },
  {
   "cell_type": "code",
   "execution_count": 93,
   "id": "3e28046a",
   "metadata": {
    "slideshow": {
     "slide_type": "subslide"
    }
   },
   "outputs": [
    {
     "data": {
      "text/html": [
       "<div>\n",
       "<style scoped>\n",
       "    .dataframe tbody tr th:only-of-type {\n",
       "        vertical-align: middle;\n",
       "    }\n",
       "\n",
       "    .dataframe tbody tr th {\n",
       "        vertical-align: top;\n",
       "    }\n",
       "\n",
       "    .dataframe thead th {\n",
       "        text-align: right;\n",
       "    }\n",
       "</style>\n",
       "<table border=\"1\" class=\"dataframe\">\n",
       "  <thead>\n",
       "    <tr style=\"text-align: right;\">\n",
       "      <th></th>\n",
       "      <th>trip_id</th>\n",
       "      <th>bike_id</th>\n",
       "      <th>trip_duration</th>\n",
       "      <th>from_station_id</th>\n",
       "      <th>to_station_id</th>\n",
       "      <th>birth_year</th>\n",
       "      <th>ride_length_float</th>\n",
       "    </tr>\n",
       "  </thead>\n",
       "  <tbody>\n",
       "    <tr>\n",
       "      <th>count</th>\n",
       "      <td>3.258788e+06</td>\n",
       "      <td>3.258788e+06</td>\n",
       "      <td>3.258788e+06</td>\n",
       "      <td>3.258788e+06</td>\n",
       "      <td>3.258788e+06</td>\n",
       "      <td>3.258788e+06</td>\n",
       "      <td>3.258788e+06</td>\n",
       "    </tr>\n",
       "    <tr>\n",
       "      <th>mean</th>\n",
       "      <td>2.391703e+07</td>\n",
       "      <td>3.390369e+03</td>\n",
       "      <td>1.070854e+03</td>\n",
       "      <td>2.049437e+02</td>\n",
       "      <td>2.054960e+02</td>\n",
       "      <td>1.984083e+03</td>\n",
       "      <td>1.785215e+01</td>\n",
       "    </tr>\n",
       "    <tr>\n",
       "      <th>std</th>\n",
       "      <td>1.241562e+06</td>\n",
       "      <td>1.905421e+03</td>\n",
       "      <td>2.077403e+04</td>\n",
       "      <td>1.559651e+02</td>\n",
       "      <td>1.556258e+02</td>\n",
       "      <td>1.085970e+01</td>\n",
       "      <td>3.462097e+02</td>\n",
       "    </tr>\n",
       "    <tr>\n",
       "      <th>min</th>\n",
       "      <td>2.174244e+07</td>\n",
       "      <td>1.000000e+00</td>\n",
       "      <td>6.100000e+01</td>\n",
       "      <td>2.000000e+00</td>\n",
       "      <td>2.000000e+00</td>\n",
       "      <td>1.759000e+03</td>\n",
       "      <td>1.016667e+00</td>\n",
       "    </tr>\n",
       "    <tr>\n",
       "      <th>25%</th>\n",
       "      <td>2.282443e+07</td>\n",
       "      <td>1.735000e+03</td>\n",
       "      <td>3.800000e+02</td>\n",
       "      <td>8.100000e+01</td>\n",
       "      <td>8.100000e+01</td>\n",
       "      <td>1.979000e+03</td>\n",
       "      <td>6.333333e+00</td>\n",
       "    </tr>\n",
       "    <tr>\n",
       "      <th>50%</th>\n",
       "      <td>2.397144e+07</td>\n",
       "      <td>3.465000e+03</td>\n",
       "      <td>6.310000e+02</td>\n",
       "      <td>1.760000e+02</td>\n",
       "      <td>1.760000e+02</td>\n",
       "      <td>1.987000e+03</td>\n",
       "      <td>1.051667e+01</td>\n",
       "    </tr>\n",
       "    <tr>\n",
       "      <th>75%</th>\n",
       "      <td>2.501124e+07</td>\n",
       "      <td>5.061000e+03</td>\n",
       "      <td>1.076000e+03</td>\n",
       "      <td>2.910000e+02</td>\n",
       "      <td>2.930000e+02</td>\n",
       "      <td>1.992000e+03</td>\n",
       "      <td>1.793333e+01</td>\n",
       "    </tr>\n",
       "    <tr>\n",
       "      <th>max</th>\n",
       "      <td>2.596290e+07</td>\n",
       "      <td>6.946000e+03</td>\n",
       "      <td>9.056633e+06</td>\n",
       "      <td>6.730000e+02</td>\n",
       "      <td>6.730000e+02</td>\n",
       "      <td>2.014000e+03</td>\n",
       "      <td>1.509439e+05</td>\n",
       "    </tr>\n",
       "  </tbody>\n",
       "</table>\n",
       "</div>"
      ],
      "text/plain": [
       "            trip_id       bike_id  trip_duration  from_station_id  \\\n",
       "count  3.258788e+06  3.258788e+06   3.258788e+06     3.258788e+06   \n",
       "mean   2.391703e+07  3.390369e+03   1.070854e+03     2.049437e+02   \n",
       "std    1.241562e+06  1.905421e+03   2.077403e+04     1.559651e+02   \n",
       "min    2.174244e+07  1.000000e+00   6.100000e+01     2.000000e+00   \n",
       "25%    2.282443e+07  1.735000e+03   3.800000e+02     8.100000e+01   \n",
       "50%    2.397144e+07  3.465000e+03   6.310000e+02     1.760000e+02   \n",
       "75%    2.501124e+07  5.061000e+03   1.076000e+03     2.910000e+02   \n",
       "max    2.596290e+07  6.946000e+03   9.056633e+06     6.730000e+02   \n",
       "\n",
       "       to_station_id    birth_year  ride_length_float  \n",
       "count   3.258788e+06  3.258788e+06       3.258788e+06  \n",
       "mean    2.054960e+02  1.984083e+03       1.785215e+01  \n",
       "std     1.556258e+02  1.085970e+01       3.462097e+02  \n",
       "min     2.000000e+00  1.759000e+03       1.016667e+00  \n",
       "25%     8.100000e+01  1.979000e+03       6.333333e+00  \n",
       "50%     1.760000e+02  1.987000e+03       1.051667e+01  \n",
       "75%     2.930000e+02  1.992000e+03       1.793333e+01  \n",
       "max     6.730000e+02  2.014000e+03       1.509439e+05  "
      ]
     },
     "execution_count": 93,
     "metadata": {},
     "output_type": "execute_result"
    }
   ],
   "source": [
    "# conduct descriptive analysis\n",
    "df.describe()"
   ]
  },
  {
   "cell_type": "code",
   "execution_count": 112,
   "id": "3d4a8a40",
   "metadata": {
    "slideshow": {
     "slide_type": "subslide"
    }
   },
   "outputs": [
    {
     "name": "stdout",
     "output_type": "stream",
     "text": [
      "Descriptive statistics of 'ride_length': \n",
      "    mean = 17.85 minutes \n",
      "    max ride duration = 150943.9 minutes \n",
      "    min ride duration = 1.02, minutes\n"
     ]
    }
   ],
   "source": [
    "# calculate the mean of ride_length\n",
    "new_line = '\\n'\n",
    "print(f\"Descriptive statistics of 'ride_length': {new_line}\\\n",
    "    mean = {round(df.ride_length_float.mean(),2)} minutes {new_line}\\\n",
    "    max ride duration = {round(df.ride_length_float.max(),2)} minutes {new_line}\\\n",
    "    min ride duration = {round(df.ride_length_float.min(),2)}, minutes\")"
   ]
  },
  {
   "cell_type": "code",
   "execution_count": 145,
   "id": "8a5cc15b",
   "metadata": {
    "slideshow": {
     "slide_type": "subslide"
    }
   },
   "outputs": [
    {
     "data": {
      "text/plain": [
       "[('Tuesday', 529641),\n",
       " ('Wednesday', 527461),\n",
       " ('Thursday', 524395),\n",
       " ('Friday', 500570),\n",
       " ('Monday', 495981),\n",
       " ('Saturday', 363238),\n",
       " ('Sunday', 317502)]"
      ]
     },
     "execution_count": 145,
     "metadata": {},
     "output_type": "execute_result"
    }
   ],
   "source": [
    "# calculate the mode of day_of_week\n",
    "data = Counter(df['weekday'])\n",
    "data.most_common()   # returns all unique items and their counts"
   ]
  },
  {
   "cell_type": "code",
   "execution_count": 179,
   "id": "c76fd3e6",
   "metadata": {
    "slideshow": {
     "slide_type": "skip"
    }
   },
   "outputs": [],
   "source": [
    "df['user_type'] = df['user_type'].astype('category')"
   ]
  },
  {
   "cell_type": "code",
   "execution_count": 183,
   "id": "e1b5c127",
   "metadata": {
    "slideshow": {
     "slide_type": "subslide"
    }
   },
   "outputs": [
    {
     "data": {
      "text/html": [
       "<div>\n",
       "<style scoped>\n",
       "    .dataframe tbody tr th:only-of-type {\n",
       "        vertical-align: middle;\n",
       "    }\n",
       "\n",
       "    .dataframe tbody tr th {\n",
       "        vertical-align: top;\n",
       "    }\n",
       "\n",
       "    .dataframe thead th {\n",
       "        text-align: right;\n",
       "    }\n",
       "</style>\n",
       "<table border=\"1\" class=\"dataframe\">\n",
       "  <thead>\n",
       "    <tr style=\"text-align: right;\">\n",
       "      <th></th>\n",
       "      <th>ride_length_float</th>\n",
       "    </tr>\n",
       "    <tr>\n",
       "      <th>user_type</th>\n",
       "      <th></th>\n",
       "    </tr>\n",
       "  </thead>\n",
       "  <tbody>\n",
       "    <tr>\n",
       "      <th>Customer</th>\n",
       "      <td>47.824274</td>\n",
       "    </tr>\n",
       "    <tr>\n",
       "      <th>Subscriber</th>\n",
       "      <td>14.312815</td>\n",
       "    </tr>\n",
       "  </tbody>\n",
       "</table>\n",
       "</div>"
      ],
      "text/plain": [
       "            ride_length_float\n",
       "user_type                    \n",
       "Customer            47.824274\n",
       "Subscriber          14.312815"
      ]
     },
     "execution_count": 183,
     "metadata": {},
     "output_type": "execute_result"
    }
   ],
   "source": [
    "# calculate the average ride_length for members and casual riders. Try rows = member_casual; Values = Average\n",
    "# of ride_length.\n",
    "avg_ride_length_by_member_type = pd.pivot_table(df, values ='ride_length_float', index =['user_type'],\n",
    "                                                aggfunc = np.average)\n",
    "avg_ride_length_by_member_type"
   ]
  },
  {
   "cell_type": "code",
   "execution_count": 192,
   "id": "8c930516",
   "metadata": {
    "slideshow": {
     "slide_type": "subslide"
    }
   },
   "outputs": [
    {
     "data": {
      "text/html": [
       "<div>\n",
       "<style scoped>\n",
       "    .dataframe tbody tr th:only-of-type {\n",
       "        vertical-align: middle;\n",
       "    }\n",
       "\n",
       "    .dataframe tbody tr th {\n",
       "        vertical-align: top;\n",
       "    }\n",
       "\n",
       "    .dataframe thead th {\n",
       "        text-align: right;\n",
       "    }\n",
       "</style>\n",
       "<table border=\"1\" class=\"dataframe\">\n",
       "  <thead>\n",
       "    <tr style=\"text-align: right;\">\n",
       "      <th>weekday</th>\n",
       "      <th>Friday</th>\n",
       "      <th>Monday</th>\n",
       "      <th>Saturday</th>\n",
       "      <th>Sunday</th>\n",
       "      <th>Thursday</th>\n",
       "      <th>Tuesday</th>\n",
       "      <th>Wednesday</th>\n",
       "    </tr>\n",
       "    <tr>\n",
       "      <th>user_type</th>\n",
       "      <th></th>\n",
       "      <th></th>\n",
       "      <th></th>\n",
       "      <th></th>\n",
       "      <th></th>\n",
       "      <th></th>\n",
       "      <th></th>\n",
       "    </tr>\n",
       "  </thead>\n",
       "  <tbody>\n",
       "    <tr>\n",
       "      <th>Customer</th>\n",
       "      <td>57.952148</td>\n",
       "      <td>50.651602</td>\n",
       "      <td>43.060100</td>\n",
       "      <td>48.859817</td>\n",
       "      <td>43.229965</td>\n",
       "      <td>50.156675</td>\n",
       "      <td>42.941394</td>\n",
       "    </tr>\n",
       "    <tr>\n",
       "      <th>Subscriber</th>\n",
       "      <td>13.883713</td>\n",
       "      <td>14.227038</td>\n",
       "      <td>16.293726</td>\n",
       "      <td>15.385942</td>\n",
       "      <td>13.764192</td>\n",
       "      <td>14.142060</td>\n",
       "      <td>13.796375</td>\n",
       "    </tr>\n",
       "  </tbody>\n",
       "</table>\n",
       "</div>"
      ],
      "text/plain": [
       "weekday        Friday     Monday   Saturday     Sunday   Thursday    Tuesday  \\\n",
       "user_type                                                                      \n",
       "Customer    57.952148  50.651602  43.060100  48.859817  43.229965  50.156675   \n",
       "Subscriber  13.883713  14.227038  16.293726  15.385942  13.764192  14.142060   \n",
       "\n",
       "weekday     Wednesday  \n",
       "user_type              \n",
       "Customer    42.941394  \n",
       "Subscriber  13.796375  "
      ]
     },
     "execution_count": 192,
     "metadata": {},
     "output_type": "execute_result"
    }
   ],
   "source": [
    "# calculate the average ride_length for users by day_of_week. Try columns = day_of_week; Rows =\n",
    "# member_casual; Values = Average of ride_length.\n",
    "avg_ride_length_by_weekday = pd.pivot_table(df, values ='ride_length_float', index =['user_type'],\n",
    "                                            columns=['weekday'], aggfunc = np.average)\n",
    "avg_ride_length_by_weekday"
   ]
  },
  {
   "cell_type": "code",
   "execution_count": 6,
   "id": "ae50d571",
   "metadata": {
    "slideshow": {
     "slide_type": "subslide"
    }
   },
   "outputs": [
    {
     "data": {
      "text/html": [
       "<div>\n",
       "<style scoped>\n",
       "    .dataframe tbody tr th:only-of-type {\n",
       "        vertical-align: middle;\n",
       "    }\n",
       "\n",
       "    .dataframe tbody tr th {\n",
       "        vertical-align: top;\n",
       "    }\n",
       "\n",
       "    .dataframe thead tr th {\n",
       "        text-align: left;\n",
       "    }\n",
       "\n",
       "    .dataframe thead tr:last-of-type th {\n",
       "        text-align: right;\n",
       "    }\n",
       "</style>\n",
       "<table border=\"1\" class=\"dataframe\">\n",
       "  <thead>\n",
       "    <tr>\n",
       "      <th></th>\n",
       "      <th colspan=\"7\" halign=\"left\">trip_id</th>\n",
       "    </tr>\n",
       "    <tr>\n",
       "      <th>weekday</th>\n",
       "      <th>Friday</th>\n",
       "      <th>Monday</th>\n",
       "      <th>Saturday</th>\n",
       "      <th>Sunday</th>\n",
       "      <th>Thursday</th>\n",
       "      <th>Tuesday</th>\n",
       "      <th>Wednesday</th>\n",
       "    </tr>\n",
       "    <tr>\n",
       "      <th>user_type</th>\n",
       "      <th></th>\n",
       "      <th></th>\n",
       "      <th></th>\n",
       "      <th></th>\n",
       "      <th></th>\n",
       "      <th></th>\n",
       "      <th></th>\n",
       "    </tr>\n",
       "  </thead>\n",
       "  <tbody>\n",
       "    <tr>\n",
       "      <th>Customer</th>\n",
       "      <td>47117</td>\n",
       "      <td>40665</td>\n",
       "      <td>78590</td>\n",
       "      <td>63527</td>\n",
       "      <td>41114</td>\n",
       "      <td>36397</td>\n",
       "      <td>36769</td>\n",
       "    </tr>\n",
       "    <tr>\n",
       "      <th>Subscriber</th>\n",
       "      <td>453453</td>\n",
       "      <td>455316</td>\n",
       "      <td>284648</td>\n",
       "      <td>253975</td>\n",
       "      <td>483281</td>\n",
       "      <td>493244</td>\n",
       "      <td>490692</td>\n",
       "    </tr>\n",
       "  </tbody>\n",
       "</table>\n",
       "</div>"
      ],
      "text/plain": [
       "           trip_id                                                    \n",
       "weekday     Friday  Monday Saturday  Sunday Thursday Tuesday Wednesday\n",
       "user_type                                                             \n",
       "Customer     47117   40665    78590   63527    41114   36397     36769\n",
       "Subscriber  453453  455316   284648  253975   483281  493244    490692"
      ]
     },
     "execution_count": 6,
     "metadata": {},
     "output_type": "execute_result"
    }
   ],
   "source": [
    "# calculate the number of rides for users by day_of_week by adding Count of trip_id to Values.\n",
    "avg_ride_length_by_weekday_w_trip_ids = pd.pivot_table(df, values = ['trip_id'],\n",
    "                                                       index =['user_type'], \n",
    "                                                       columns=['weekday'], aggfunc = 'count')\n",
    "avg_ride_length_by_weekday_w_trip_ids"
   ]
  },
  {
   "cell_type": "code",
   "execution_count": 140,
   "id": "a69ef49f",
   "metadata": {
    "slideshow": {
     "slide_type": "skip"
    }
   },
   "outputs": [],
   "source": [
    "df.start_date = pd.to_datetime(df.start_date)"
   ]
  },
  {
   "cell_type": "code",
   "execution_count": 141,
   "id": "44fd262c",
   "metadata": {
    "slideshow": {
     "slide_type": "skip"
    }
   },
   "outputs": [],
   "source": [
    "quarter_df = df.groupby([pd.Grouper(key = 'start_date', freq = 'Q'),\n",
    "                         pd.Grouper('user_type')]).size()"
   ]
  },
  {
   "cell_type": "markdown",
   "id": "edaa83a1",
   "metadata": {
    "slideshow": {
     "slide_type": "slide"
    }
   },
   "source": [
    "**Share**\n",
    "\n",
    "* There is no major difference in bicycle usage depending on a *weekday*; a *slight reduction* is observed during *weekend*, while the *busiest* days are *Tuesday, Wednesdays and Thursdays*.\n",
    "* *Customer's ride length* is approximately *3,5 times larger* than that of subscribers.\n",
    "* As for the ride lengths on certain weekdays, *subscribers* stick to spending similar amount of time cycling *every day*. *Customers*, on the other hand, like cycling the most on *Sundays*. \n",
    "<br>\n",
    "\n",
    "* On the whole a *customer's trip* by bycicle takes about *3 times longer* compared to that of subscriber. However, the vast majority of ride is carried out by subscribers, while *customers* enjoy a very humble share at *about 10%*.\n",
    "* In general, the quarter numbers show that the bicycles are used *less during the cold time of the year* - 1st and 4th quarters. During the 2nd quarter the demand for bike rides *doubles* compared to the 1st quarter, and then *peaks in the 3rd quarter* at 214,116 for customers and at 1.139,252 for subscribers."
   ]
  },
  {
   "cell_type": "code",
   "execution_count": 165,
   "id": "6d1e6e2f",
   "metadata": {
    "slideshow": {
     "slide_type": "subslide"
    }
   },
   "outputs": [
    {
     "data": {
      "image/png": "[encoded data removed]",
      "text/plain": [
       "<Figure size 432x288 with 1 Axes>"
      ]
     },
     "metadata": {},
     "output_type": "display_data"
    }
   ],
   "source": [
    "# viz Bicycle usage per weekday\n",
    "labels = ('Tuesday','Wednesday','Thursday','Friday','Monday','Saturday','Sunday')\n",
    "sizes = [529641, 527461, 524395, 500570, 495981, 363238, 317502]\n",
    "explode = (0.1, 0.0, 0.0, 0, 0, 0, 0)\n",
    "\n",
    "fig11, ax11 = plt.subplots()\n",
    "ax11.pie(sizes, explode=explode, labels=labels, autopct='%1.1f%%',\n",
    "        shadow=True, startangle=90)\n",
    "ax11.axis('equal')\n",
    "#plt.title('Bicycle usage per weekday')\n",
    "plt.show()"
   ]
  },
  {
   "cell_type": "code",
   "execution_count": 197,
   "id": "1435e737",
   "metadata": {
    "slideshow": {
     "slide_type": "subslide"
    }
   },
   "outputs": [
    {
     "data": {
      "application/vnd.plotly.v1+json": {
       "config": {
        "plotlyServerURL": "https://plot.ly"
       },
       "data": [
        {
         "marker": {
          "color": [
           "yellow",
           "yellowgreen"
          ]
         },
         "type": "bar",
         "x": [
          "Customer",
          "Subscriber"
         ],
         "y": [
          47.82427443278062,
          14.312815200941184
         ]
        }
       ],
       "layout": {
        "template": {
         "data": {
          "bar": [
           {
            "error_x": {
             "color": "#2a3f5f"
            },
            "error_y": {
             "color": "#2a3f5f"
            },
            "marker": {
             "line": {
              "color": "#E5ECF6",
              "width": 0.5
             },
             "pattern": {
              "fillmode": "overlay",
              "size": 10,
              "solidity": 0.2
             }
            },
            "type": "bar"
           }
          ],
          "barpolar": [
           {
            "marker": {
             "line": {
              "color": "#E5ECF6",
              "width": 0.5
             },
             "pattern": {
              "fillmode": "overlay",
              "size": 10,
              "solidity": 0.2
             }
            },
            "type": "barpolar"
           }
          ],
          "carpet": [
           {
            "aaxis": {
             "endlinecolor": "#2a3f5f",
             "gridcolor": "white",
             "linecolor": "white",
             "minorgridcolor": "white",
             "startlinecolor": "#2a3f5f"
            },
            "baxis": {
             "endlinecolor": "#2a3f5f",
             "gridcolor": "white",
             "linecolor": "white",
             "minorgridcolor": "white",
             "startlinecolor": "#2a3f5f"
            },
            "type": "carpet"
           }
          ],
          "choropleth": [
           {
            "colorbar": {
             "outlinewidth": 0,
             "ticks": ""
            },
            "type": "choropleth"
           }
          ],
          "contour": [
           {
            "colorbar": {
             "outlinewidth": 0,
             "ticks": ""
            },
            "colorscale": [
             [
              0,
              "#0d0887"
             ],
             [
              0.1111111111111111,
              "#46039f"
             ],
             [
              0.2222222222222222,
              "#7201a8"
             ],
             [
              0.3333333333333333,
              "#9c179e"
             ],
             [
              0.4444444444444444,
              "#bd3786"
             ],
             [
              0.5555555555555556,
              "#d8576b"
             ],
             [
              0.6666666666666666,
              "#ed7953"
             ],
             [
              0.7777777777777778,
              "#fb9f3a"
             ],
             [
              0.8888888888888888,
              "#fdca26"
             ],
             [
              1,
              "#f0f921"
             ]
            ],
            "type": "contour"
           }
          ],
          "contourcarpet": [
           {
            "colorbar": {
             "outlinewidth": 0,
             "ticks": ""
            },
            "type": "contourcarpet"
           }
          ],
          "heatmap": [
           {
            "colorbar": {
             "outlinewidth": 0,
             "ticks": ""
            },
            "colorscale": [
             [
              0,
              "#0d0887"
             ],
             [
              0.1111111111111111,
              "#46039f"
             ],
             [
              0.2222222222222222,
              "#7201a8"
             ],
             [
              0.3333333333333333,
              "#9c179e"
             ],
             [
              0.4444444444444444,
              "#bd3786"
             ],
             [
              0.5555555555555556,
              "#d8576b"
             ],
             [
              0.6666666666666666,
              "#ed7953"
             ],
             [
              0.7777777777777778,
              "#fb9f3a"
             ],
             [
              0.8888888888888888,
              "#fdca26"
             ],
             [
              1,
              "#f0f921"
             ]
            ],
            "type": "heatmap"
           }
          ],
          "heatmapgl": [
           {
            "colorbar": {
             "outlinewidth": 0,
             "ticks": ""
            },
            "colorscale": [
             [
              0,
              "#0d0887"
             ],
             [
              0.1111111111111111,
              "#46039f"
             ],
             [
              0.2222222222222222,
              "#7201a8"
             ],
             [
              0.3333333333333333,
              "#9c179e"
             ],
             [
              0.4444444444444444,
              "#bd3786"
             ],
             [
              0.5555555555555556,
              "#d8576b"
             ],
             [
              0.6666666666666666,
              "#ed7953"
             ],
             [
              0.7777777777777778,
              "#fb9f3a"
             ],
             [
              0.8888888888888888,
              "#fdca26"
             ],
             [
              1,
              "#f0f921"
             ]
            ],
            "type": "heatmapgl"
           }
          ],
          "histogram": [
           {
            "marker": {
             "pattern": {
              "fillmode": "overlay",
              "size": 10,
              "solidity": 0.2
             }
            },
            "type": "histogram"
           }
          ],
          "histogram2d": [
           {
            "colorbar": {
             "outlinewidth": 0,
             "ticks": ""
            },
            "colorscale": [
             [
              0,
              "#0d0887"
             ],
             [
              0.1111111111111111,
              "#46039f"
             ],
             [
              0.2222222222222222,
              "#7201a8"
             ],
             [
              0.3333333333333333,
              "#9c179e"
             ],
             [
              0.4444444444444444,
              "#bd3786"
             ],
             [
              0.5555555555555556,
              "#d8576b"
             ],
             [
              0.6666666666666666,
              "#ed7953"
             ],
             [
              0.7777777777777778,
              "#fb9f3a"
             ],
             [
              0.8888888888888888,
              "#fdca26"
             ],
             [
              1,
              "#f0f921"
             ]
            ],
            "type": "histogram2d"
           }
          ],
          "histogram2dcontour": [
           {
            "colorbar": {
             "outlinewidth": 0,
             "ticks": ""
            },
            "colorscale": [
             [
              0,
              "#0d0887"
             ],
             [
              0.1111111111111111,
              "#46039f"
             ],
             [
              0.2222222222222222,
              "#7201a8"
             ],
             [
              0.3333333333333333,
              "#9c179e"
             ],
             [
              0.4444444444444444,
              "#bd3786"
             ],
             [
              0.5555555555555556,
              "#d8576b"
             ],
             [
              0.6666666666666666,
              "#ed7953"
             ],
             [
              0.7777777777777778,
              "#fb9f3a"
             ],
             [
              0.8888888888888888,
              "#fdca26"
             ],
             [
              1,
              "#f0f921"
             ]
            ],
            "type": "histogram2dcontour"
           }
          ],
          "mesh3d": [
           {
            "colorbar": {
             "outlinewidth": 0,
             "ticks": ""
            },
            "type": "mesh3d"
           }
          ],
          "parcoords": [
           {
            "line": {
             "colorbar": {
              "outlinewidth": 0,
              "ticks": ""
             }
            },
            "type": "parcoords"
           }
          ],
          "pie": [
           {
            "automargin": true,
            "type": "pie"
           }
          ],
          "scatter": [
           {
            "fillpattern": {
             "fillmode": "overlay",
             "size": 10,
             "solidity": 0.2
            },
            "type": "scatter"
           }
          ],
          "scatter3d": [
           {
            "line": {
             "colorbar": {
              "outlinewidth": 0,
              "ticks": ""
             }
            },
            "marker": {
             "colorbar": {
              "outlinewidth": 0,
              "ticks": ""
             }
            },
            "type": "scatter3d"
           }
          ],
          "scattercarpet": [
           {
            "marker": {
             "colorbar": {
              "outlinewidth": 0,
              "ticks": ""
             }
            },
            "type": "scattercarpet"
           }
          ],
          "scattergeo": [
           {
            "marker": {
             "colorbar": {
              "outlinewidth": 0,
              "ticks": ""
             }
            },
            "type": "scattergeo"
           }
          ],
          "scattergl": [
           {
            "marker": {
             "colorbar": {
              "outlinewidth": 0,
              "ticks": ""
             }
            },
            "type": "scattergl"
           }
          ],
          "scattermapbox": [
           {
            "marker": {
             "colorbar": {
              "outlinewidth": 0,
              "ticks": ""
             }
            },
            "type": "scattermapbox"
           }
          ],
          "scatterpolar": [
           {
            "marker": {
             "colorbar": {
              "outlinewidth": 0,
              "ticks": ""
             }
            },
            "type": "scatterpolar"
           }
          ],
          "scatterpolargl": [
           {
            "marker": {
             "colorbar": {
              "outlinewidth": 0,
              "ticks": ""
             }
            },
            "type": "scatterpolargl"
           }
          ],
          "scatterternary": [
           {
            "marker": {
             "colorbar": {
              "outlinewidth": 0,
              "ticks": ""
             }
            },
            "type": "scatterternary"
           }
          ],
          "surface": [
           {
            "colorbar": {
             "outlinewidth": 0,
             "ticks": ""
            },
            "colorscale": [
             [
              0,
              "#0d0887"
             ],
             [
              0.1111111111111111,
              "#46039f"
             ],
             [
              0.2222222222222222,
              "#7201a8"
             ],
             [
              0.3333333333333333,
              "#9c179e"
             ],
             [
              0.4444444444444444,
              "#bd3786"
             ],
             [
              0.5555555555555556,
              "#d8576b"
             ],
             [
              0.6666666666666666,
              "#ed7953"
             ],
             [
              0.7777777777777778,
              "#fb9f3a"
             ],
             [
              0.8888888888888888,
              "#fdca26"
             ],
             [
              1,
              "#f0f921"
             ]
            ],
            "type": "surface"
           }
          ],
          "table": [
           {
            "cells": {
             "fill": {
              "color": "#EBF0F8"
             },
             "line": {
              "color": "white"
             }
            },
            "header": {
             "fill": {
              "color": "#C8D4E3"
             },
             "line": {
              "color": "white"
             }
            },
            "type": "table"
           }
          ]
         },
         "layout": {
          "annotationdefaults": {
           "arrowcolor": "#2a3f5f",
           "arrowhead": 0,
           "arrowwidth": 1
          },
          "autotypenumbers": "strict",
          "coloraxis": {
           "colorbar": {
            "outlinewidth": 0,
            "ticks": ""
           }
          },
          "colorscale": {
           "diverging": [
            [
             0,
             "#8e0152"
            ],
            [
             0.1,
             "#c51b7d"
            ],
            [
             0.2,
             "#de77ae"
            ],
            [
             0.3,
             "#f1b6da"
            ],
            [
             0.4,
             "#fde0ef"
            ],
            [
             0.5,
             "#f7f7f7"
            ],
            [
             0.6,
             "#e6f5d0"
            ],
            [
             0.7,
             "#b8e186"
            ],
            [
             0.8,
             "#7fbc41"
            ],
            [
             0.9,
             "#4d9221"
            ],
            [
             1,
             "#276419"
            ]
           ],
           "sequential": [
            [
             0,
             "#0d0887"
            ],
            [
             0.1111111111111111,
             "#46039f"
            ],
            [
             0.2222222222222222,
             "#7201a8"
            ],
            [
             0.3333333333333333,
             "#9c179e"
            ],
            [
             0.4444444444444444,
             "#bd3786"
            ],
            [
             0.5555555555555556,
             "#d8576b"
            ],
            [
             0.6666666666666666,
             "#ed7953"
            ],
            [
             0.7777777777777778,
             "#fb9f3a"
            ],
            [
             0.8888888888888888,
             "#fdca26"
            ],
            [
             1,
             "#f0f921"
            ]
           ],
           "sequentialminus": [
            [
             0,
             "#0d0887"
            ],
            [
             0.1111111111111111,
             "#46039f"
            ],
            [
             0.2222222222222222,
             "#7201a8"
            ],
            [
             0.3333333333333333,
             "#9c179e"
            ],
            [
             0.4444444444444444,
             "#bd3786"
            ],
            [
             0.5555555555555556,
             "#d8576b"
            ],
            [
             0.6666666666666666,
             "#ed7953"
            ],
            [
             0.7777777777777778,
             "#fb9f3a"
            ],
            [
             0.8888888888888888,
             "#fdca26"
            ],
            [
             1,
             "#f0f921"
            ]
           ]
          },
          "colorway": [
           "#636efa",
           "#EF553B",
           "#00cc96",
           "#ab63fa",
           "#FFA15A",
           "#19d3f3",
           "#FF6692",
           "#B6E880",
           "#FF97FF",
           "#FECB52"
          ],
          "font": {
           "color": "#2a3f5f"
          },
          "geo": {
           "bgcolor": "white",
           "lakecolor": "white",
           "landcolor": "#E5ECF6",
           "showlakes": true,
           "showland": true,
           "subunitcolor": "white"
          },
          "hoverlabel": {
           "align": "left"
          },
          "hovermode": "closest",
          "mapbox": {
           "style": "light"
          },
          "paper_bgcolor": "white",
          "plot_bgcolor": "#E5ECF6",
          "polar": {
           "angularaxis": {
            "gridcolor": "white",
            "linecolor": "white",
            "ticks": ""
           },
           "bgcolor": "#E5ECF6",
           "radialaxis": {
            "gridcolor": "white",
            "linecolor": "white",
            "ticks": ""
           }
          },
          "scene": {
           "xaxis": {
            "backgroundcolor": "#E5ECF6",
            "gridcolor": "white",
            "gridwidth": 2,
            "linecolor": "white",
            "showbackground": true,
            "ticks": "",
            "zerolinecolor": "white"
           },
           "yaxis": {
            "backgroundcolor": "#E5ECF6",
            "gridcolor": "white",
            "gridwidth": 2,
            "linecolor": "white",
            "showbackground": true,
            "ticks": "",
            "zerolinecolor": "white"
           },
           "zaxis": {
            "backgroundcolor": "#E5ECF6",
            "gridcolor": "white",
            "gridwidth": 2,
            "linecolor": "white",
            "showbackground": true,
            "ticks": "",
            "zerolinecolor": "white"
           }
          },
          "shapedefaults": {
           "line": {
            "color": "#2a3f5f"
           }
          },
          "ternary": {
           "aaxis": {
            "gridcolor": "white",
            "linecolor": "white",
            "ticks": ""
           },
           "baxis": {
            "gridcolor": "white",
            "linecolor": "white",
            "ticks": ""
           },
           "bgcolor": "#E5ECF6",
           "caxis": {
            "gridcolor": "white",
            "linecolor": "white",
            "ticks": ""
           }
          },
          "title": {
           "x": 0.05
          },
          "xaxis": {
           "automargin": true,
           "gridcolor": "white",
           "linecolor": "white",
           "ticks": "",
           "title": {
            "standoff": 15
           },
           "zerolinecolor": "white",
           "zerolinewidth": 2
          },
          "yaxis": {
           "automargin": true,
           "gridcolor": "white",
           "linecolor": "white",
           "ticks": "",
           "title": {
            "standoff": 15
           },
           "zerolinecolor": "white",
           "zerolinewidth": 2
          }
         }
        },
        "title": {
         "text": "Average ride length by user type"
        },
        "xaxis": {
         "title": {
          "text": "user type"
         }
        },
        "yaxis": {
         "title": {
          "text": "average ride length in minutes"
         }
        }
       }
      },
      "text/html": [
       "<div>                            <div id=\"19689a48-38c3-4c35-987a-4d66495aa810\" class=\"plotly-graph-div\" style=\"height:525px; width:100%;\"></div>            <script type=\"text/javascript\">                require([\"plotly\"], function(Plotly) {                    window.PLOTLYENV=window.PLOTLYENV || {};                                    if (document.getElementById(\"19689a48-38c3-4c35-987a-4d66495aa810\")) {                    Plotly.newPlot(                        \"19689a48-38c3-4c35-987a-4d66495aa810\",                        [{\"marker\":{\"color\":[\"yellow\",\"yellowgreen\"]},\"x\":[\"Customer\",\"Subscriber\"],\"y\":[47.82427443278062,14.312815200941184],\"type\":\"bar\"}],                        {\"title\":{\"text\":\"Average ride length by user type\"},\"xaxis\":{\"title\":{\"text\":\"user type\"}},\"yaxis\":{\"title\":{\"text\":\"average ride length in minutes\"}},\"template\":{\"data\":{\"histogram2dcontour\":[{\"type\":\"histogram2dcontour\",\"colorbar\":{\"outlinewidth\":0,\"ticks\":\"\"},\"colorscale\":[[0.0,\"#0d0887\"],[0.1111111111111111,\"#46039f\"],[0.2222222222222222,\"#7201a8\"],[0.3333333333333333,\"#9c179e\"],[0.4444444444444444,\"#bd3786\"],[0.5555555555555556,\"#d8576b\"],[0.6666666666666666,\"#ed7953\"],[0.7777777777777778,\"#fb9f3a\"],[0.8888888888888888,\"#fdca26\"],[1.0,\"#f0f921\"]]}],\"choropleth\":[{\"type\":\"choropleth\",\"colorbar\":{\"outlinewidth\":0,\"ticks\":\"\"}}],\"histogram2d\":[{\"type\":\"histogram2d\",\"colorbar\":{\"outlinewidth\":0,\"ticks\":\"\"},\"colorscale\":[[0.0,\"#0d0887\"],[0.1111111111111111,\"#46039f\"],[0.2222222222222222,\"#7201a8\"],[0.3333333333333333,\"#9c179e\"],[0.4444444444444444,\"#bd3786\"],[0.5555555555555556,\"#d8576b\"],[0.6666666666666666,\"#ed7953\"],[0.7777777777777778,\"#fb9f3a\"],[0.8888888888888888,\"#fdca26\"],[1.0,\"#f0f921\"]]}],\"heatmap\":[{\"type\":\"heatmap\",\"colorbar\":{\"outlinewidth\":0,\"ticks\":\"\"},\"colorscale\":[[0.0,\"#0d0887\"],[0.1111111111111111,\"#46039f\"],[0.2222222222222222,\"#7201a8\"],[0.3333333333333333,\"#9c179e\"],[0.4444444444444444,\"#bd3786\"],[0.5555555555555556,\"#d8576b\"],[0.6666666666666666,\"#ed7953\"],[0.7777777777777778,\"#fb9f3a\"],[0.8888888888888888,\"#fdca26\"],[1.0,\"#f0f921\"]]}],\"heatmapgl\":[{\"type\":\"heatmapgl\",\"colorbar\":{\"outlinewidth\":0,\"ticks\":\"\"},\"colorscale\":[[0.0,\"#0d0887\"],[0.1111111111111111,\"#46039f\"],[0.2222222222222222,\"#7201a8\"],[0.3333333333333333,\"#9c179e\"],[0.4444444444444444,\"#bd3786\"],[0.5555555555555556,\"#d8576b\"],[0.6666666666666666,\"#ed7953\"],[0.7777777777777778,\"#fb9f3a\"],[0.8888888888888888,\"#fdca26\"],[1.0,\"#f0f921\"]]}],\"contourcarpet\":[{\"type\":\"contourcarpet\",\"colorbar\":{\"outlinewidth\":0,\"ticks\":\"\"}}],\"contour\":[{\"type\":\"contour\",\"colorbar\":{\"outlinewidth\":0,\"ticks\":\"\"},\"colorscale\":[[0.0,\"#0d0887\"],[0.1111111111111111,\"#46039f\"],[0.2222222222222222,\"#7201a8\"],[0.3333333333333333,\"#9c179e\"],[0.4444444444444444,\"#bd3786\"],[0.5555555555555556,\"#d8576b\"],[0.6666666666666666,\"#ed7953\"],[0.7777777777777778,\"#fb9f3a\"],[0.8888888888888888,\"#fdca26\"],[1.0,\"#f0f921\"]]}],\"surface\":[{\"type\":\"surface\",\"colorbar\":{\"outlinewidth\":0,\"ticks\":\"\"},\"colorscale\":[[0.0,\"#0d0887\"],[0.1111111111111111,\"#46039f\"],[0.2222222222222222,\"#7201a8\"],[0.3333333333333333,\"#9c179e\"],[0.4444444444444444,\"#bd3786\"],[0.5555555555555556,\"#d8576b\"],[0.6666666666666666,\"#ed7953\"],[0.7777777777777778,\"#fb9f3a\"],[0.8888888888888888,\"#fdca26\"],[1.0,\"#f0f921\"]]}],\"mesh3d\":[{\"type\":\"mesh3d\",\"colorbar\":{\"outlinewidth\":0,\"ticks\":\"\"}}],\"scatter\":[{\"fillpattern\":{\"fillmode\":\"overlay\",\"size\":10,\"solidity\":0.2},\"type\":\"scatter\"}],\"parcoords\":[{\"type\":\"parcoords\",\"line\":{\"colorbar\":{\"outlinewidth\":0,\"ticks\":\"\"}}}],\"scatterpolargl\":[{\"type\":\"scatterpolargl\",\"marker\":{\"colorbar\":{\"outlinewidth\":0,\"ticks\":\"\"}}}],\"bar\":[{\"error_x\":{\"color\":\"#2a3f5f\"},\"error_y\":{\"color\":\"#2a3f5f\"},\"marker\":{\"line\":{\"color\":\"#E5ECF6\",\"width\":0.5},\"pattern\":{\"fillmode\":\"overlay\",\"size\":10,\"solidity\":0.2}},\"type\":\"bar\"}],\"scattergeo\":[{\"type\":\"scattergeo\",\"marker\":{\"colorbar\":{\"outlinewidth\":0,\"ticks\":\"\"}}}],\"scatterpolar\":[{\"type\":\"scatterpolar\",\"marker\":{\"colorbar\":{\"outlinewidth\":0,\"ticks\":\"\"}}}],\"histogram\":[{\"marker\":{\"pattern\":{\"fillmode\":\"overlay\",\"size\":10,\"solidity\":0.2}},\"type\":\"histogram\"}],\"scattergl\":[{\"type\":\"scattergl\",\"marker\":{\"colorbar\":{\"outlinewidth\":0,\"ticks\":\"\"}}}],\"scatter3d\":[{\"type\":\"scatter3d\",\"line\":{\"colorbar\":{\"outlinewidth\":0,\"ticks\":\"\"}},\"marker\":{\"colorbar\":{\"outlinewidth\":0,\"ticks\":\"\"}}}],\"scattermapbox\":[{\"type\":\"scattermapbox\",\"marker\":{\"colorbar\":{\"outlinewidth\":0,\"ticks\":\"\"}}}],\"scatterternary\":[{\"type\":\"scatterternary\",\"marker\":{\"colorbar\":{\"outlinewidth\":0,\"ticks\":\"\"}}}],\"scattercarpet\":[{\"type\":\"scattercarpet\",\"marker\":{\"colorbar\":{\"outlinewidth\":0,\"ticks\":\"\"}}}],\"carpet\":[{\"aaxis\":{\"endlinecolor\":\"#2a3f5f\",\"gridcolor\":\"white\",\"linecolor\":\"white\",\"minorgridcolor\":\"white\",\"startlinecolor\":\"#2a3f5f\"},\"baxis\":{\"endlinecolor\":\"#2a3f5f\",\"gridcolor\":\"white\",\"linecolor\":\"white\",\"minorgridcolor\":\"white\",\"startlinecolor\":\"#2a3f5f\"},\"type\":\"carpet\"}],\"table\":[{\"cells\":{\"fill\":{\"color\":\"#EBF0F8\"},\"line\":{\"color\":\"white\"}},\"header\":{\"fill\":{\"color\":\"#C8D4E3\"},\"line\":{\"color\":\"white\"}},\"type\":\"table\"}],\"barpolar\":[{\"marker\":{\"line\":{\"color\":\"#E5ECF6\",\"width\":0.5},\"pattern\":{\"fillmode\":\"overlay\",\"size\":10,\"solidity\":0.2}},\"type\":\"barpolar\"}],\"pie\":[{\"automargin\":true,\"type\":\"pie\"}]},\"layout\":{\"autotypenumbers\":\"strict\",\"colorway\":[\"#636efa\",\"#EF553B\",\"#00cc96\",\"#ab63fa\",\"#FFA15A\",\"#19d3f3\",\"#FF6692\",\"#B6E880\",\"#FF97FF\",\"#FECB52\"],\"font\":{\"color\":\"#2a3f5f\"},\"hovermode\":\"closest\",\"hoverlabel\":{\"align\":\"left\"},\"paper_bgcolor\":\"white\",\"plot_bgcolor\":\"#E5ECF6\",\"polar\":{\"bgcolor\":\"#E5ECF6\",\"angularaxis\":{\"gridcolor\":\"white\",\"linecolor\":\"white\",\"ticks\":\"\"},\"radialaxis\":{\"gridcolor\":\"white\",\"linecolor\":\"white\",\"ticks\":\"\"}},\"ternary\":{\"bgcolor\":\"#E5ECF6\",\"aaxis\":{\"gridcolor\":\"white\",\"linecolor\":\"white\",\"ticks\":\"\"},\"baxis\":{\"gridcolor\":\"white\",\"linecolor\":\"white\",\"ticks\":\"\"},\"caxis\":{\"gridcolor\":\"white\",\"linecolor\":\"white\",\"ticks\":\"\"}},\"coloraxis\":{\"colorbar\":{\"outlinewidth\":0,\"ticks\":\"\"}},\"colorscale\":{\"sequential\":[[0.0,\"#0d0887\"],[0.1111111111111111,\"#46039f\"],[0.2222222222222222,\"#7201a8\"],[0.3333333333333333,\"#9c179e\"],[0.4444444444444444,\"#bd3786\"],[0.5555555555555556,\"#d8576b\"],[0.6666666666666666,\"#ed7953\"],[0.7777777777777778,\"#fb9f3a\"],[0.8888888888888888,\"#fdca26\"],[1.0,\"#f0f921\"]],\"sequentialminus\":[[0.0,\"#0d0887\"],[0.1111111111111111,\"#46039f\"],[0.2222222222222222,\"#7201a8\"],[0.3333333333333333,\"#9c179e\"],[0.4444444444444444,\"#bd3786\"],[0.5555555555555556,\"#d8576b\"],[0.6666666666666666,\"#ed7953\"],[0.7777777777777778,\"#fb9f3a\"],[0.8888888888888888,\"#fdca26\"],[1.0,\"#f0f921\"]],\"diverging\":[[0,\"#8e0152\"],[0.1,\"#c51b7d\"],[0.2,\"#de77ae\"],[0.3,\"#f1b6da\"],[0.4,\"#fde0ef\"],[0.5,\"#f7f7f7\"],[0.6,\"#e6f5d0\"],[0.7,\"#b8e186\"],[0.8,\"#7fbc41\"],[0.9,\"#4d9221\"],[1,\"#276419\"]]},\"xaxis\":{\"gridcolor\":\"white\",\"linecolor\":\"white\",\"ticks\":\"\",\"title\":{\"standoff\":15},\"zerolinecolor\":\"white\",\"automargin\":true,\"zerolinewidth\":2},\"yaxis\":{\"gridcolor\":\"white\",\"linecolor\":\"white\",\"ticks\":\"\",\"title\":{\"standoff\":15},\"zerolinecolor\":\"white\",\"automargin\":true,\"zerolinewidth\":2},\"scene\":{\"xaxis\":{\"backgroundcolor\":\"#E5ECF6\",\"gridcolor\":\"white\",\"linecolor\":\"white\",\"showbackground\":true,\"ticks\":\"\",\"zerolinecolor\":\"white\",\"gridwidth\":2},\"yaxis\":{\"backgroundcolor\":\"#E5ECF6\",\"gridcolor\":\"white\",\"linecolor\":\"white\",\"showbackground\":true,\"ticks\":\"\",\"zerolinecolor\":\"white\",\"gridwidth\":2},\"zaxis\":{\"backgroundcolor\":\"#E5ECF6\",\"gridcolor\":\"white\",\"linecolor\":\"white\",\"showbackground\":true,\"ticks\":\"\",\"zerolinecolor\":\"white\",\"gridwidth\":2}},\"shapedefaults\":{\"line\":{\"color\":\"#2a3f5f\"}},\"annotationdefaults\":{\"arrowcolor\":\"#2a3f5f\",\"arrowhead\":0,\"arrowwidth\":1},\"geo\":{\"bgcolor\":\"white\",\"landcolor\":\"#E5ECF6\",\"subunitcolor\":\"white\",\"showland\":true,\"showlakes\":true,\"lakecolor\":\"white\"},\"title\":{\"x\":0.05},\"mapbox\":{\"style\":\"light\"}}}},                        {\"responsive\": true}                    ).then(function(){\n",
       "                            \n",
       "var gd = document.getElementById('19689a48-38c3-4c35-987a-4d66495aa810');\n",
       "var x = new MutationObserver(function (mutations, observer) {{\n",
       "        var display = window.getComputedStyle(gd).display;\n",
       "        if (!display || display === 'none') {{\n",
       "            console.log([gd, 'removed!']);\n",
       "            Plotly.purge(gd);\n",
       "            observer.disconnect();\n",
       "        }}\n",
       "}});\n",
       "\n",
       "// Listen for the removal of the full notebook cells\n",
       "var notebookContainer = gd.closest('#notebook-container');\n",
       "if (notebookContainer) {{\n",
       "    x.observe(notebookContainer, {childList: true});\n",
       "}}\n",
       "\n",
       "// Listen for the clearing of the current output cell\n",
       "var outputEl = gd.closest('.output');\n",
       "if (outputEl) {{\n",
       "    x.observe(outputEl, {childList: true});\n",
       "}}\n",
       "\n",
       "                        })                };                });            </script>        </div>"
      ]
     },
     "metadata": {},
     "output_type": "display_data"
    }
   ],
   "source": [
    "# viz Average ride length by user type\n",
    "colors = ['yellow', 'yellowgreen']\n",
    "\n",
    "pivot_table = [go.Bar(x=avg_ride_length_by_member_type.index,\n",
    "                      y=avg_ride_length_by_member_type.values.flatten(),\n",
    "                      marker_color=colors)]\n",
    "\n",
    "my_layout = {'title': 'Average ride length by user type',\n",
    "             'xaxis': {'title': 'user type'},\n",
    "             'yaxis': {'title': 'average ride length in minutes'},}\n",
    "\n",
    "fig = go.Figure(data=pivot_table, layout=my_layout)\n",
    "\n",
    "fig.show()"
   ]
  },
  {
   "cell_type": "code",
   "execution_count": 223,
   "id": "98250dc1",
   "metadata": {
    "slideshow": {
     "slide_type": "subslide"
    }
   },
   "outputs": [
    {
     "data": {
      "image/png": "[encoded data removed]",
      "text/plain": [
       "<Figure size 1080x360 with 1 Axes>"
      ]
     },
     "metadata": {
      "needs_background": "light"
     },
     "output_type": "display_data"
    }
   ],
   "source": [
    "# viz Average ride length by weekday\n",
    "cmap = cm.get_cmap('Spectral')\n",
    "ax2 = avg_ride_length_by_weekday.plot(kind='barh', stacked=True, figsize=(15, 5), cmap=cmap, edgecolor='None',\n",
    "                                      title='Average ride length by weekday')"
   ]
  },
  {
   "cell_type": "code",
   "execution_count": 26,
   "id": "5da8ed25",
   "metadata": {
    "slideshow": {
     "slide_type": "subslide"
    }
   },
   "outputs": [
    {
     "data": {
      "image/png": "[encoded data removed]",
      "text/plain": [
       "<Figure size 1080x360 with 1 Axes>"
      ]
     },
     "metadata": {
      "needs_background": "light"
     },
     "output_type": "display_data"
    }
   ],
   "source": [
    "# viz Average ride length by weekday with trip counts\n",
    "cmap = cm.get_cmap('Pastel2')\n",
    "ax3 = avg_ride_length_by_weekday_w_trip_ids.plot(kind='barh', stacked=True, figsize=(15, 5), cmap=cmap, \n",
    "                                                 edgecolor='None',\n",
    "                                                 title='Average ride length by weekday with trip counts')"
   ]
  },
  {
   "cell_type": "code",
   "execution_count": 143,
   "id": "0a451a30",
   "metadata": {
    "slideshow": {
     "slide_type": "subslide"
    }
   },
   "outputs": [
    {
     "data": {
      "image/png": "[encoded data removed]",
      "text/plain": [
       "<Figure size 936x576 with 1 Axes>"
      ]
     },
     "metadata": {
      "needs_background": "light"
     },
     "output_type": "display_data"
    }
   ],
   "source": [
    "# viz Number of trips by user type on quarterly basis\n",
    "colors = [\"lightskyblue\",\"royalblue\"]\n",
    "ax10 = quarter_df.plot(kind='bar', figsize=(13, 8),\n",
    "                      color=colors,title='Number of trips by user type on quarterly basis')\n",
    "for container in ax10.containers:\n",
    "    ax10.bar_label(container)"
   ]
  },
  {
   "cell_type": "markdown",
   "id": "2fb74337",
   "metadata": {
    "slideshow": {
     "slide_type": "slide"
    }
   },
   "source": [
    "**Act**\n",
    "\n",
    "To summarize: \n",
    "* The analysis has shown that the ratio of customers to subscribers is incredibly low.\n",
    "* Customers spend considerably more time riding a bicycle.\n",
    "* Sundays are the most popular days to ride a bycicle for customers.\n",
    "* The quarterly bicycle usage by both customers and subscribers follows a similar trend.\n",
    "<br>\n",
    "\n",
    "Next steps:\n",
    "* Bicycle riding has to be made more attractive to ride by customers.\n",
    "* Marketing campaigns should be launched throughout 2nd and 3rd quarters to boost awareness and animate more customers to try out bycicles.\n",
    "* When attracting more customers, it is important to ensure that enough bycicles are positioned at bycicle stations. If the demand exceeds the offering, empty bycicle stations can have a negative effect on the customers' attitutude towards the company. This could cancel out the efforts of the marketing campaign.\n",
    "<br>\n",
    "\n",
    "**Limitations**\n",
    "* further analysis of the effect of gender and age on the trends can be carried out to explore other relationships between the variables and possibly gain insights from it to tailor the marketing campaign more precisely.\n",
    "* since sales data are missing from the dataset, there is no way to determine the impact of the user type ratio on the overall company performance."
   ]
  }
 ],
 "metadata": {
  "celltoolbar": "Slideshow",
  "kernelspec": {
   "display_name": "Python 3 (ipykernel)",
   "language": "python",
   "name": "python3"
  },
  "language_info": {
   "codemirror_mode": {
    "name": "ipython",
    "version": 3
   },
   "file_extension": ".py",
   "mimetype": "text/x-python",
   "name": "python",
   "nbconvert_exporter": "python",
   "pygments_lexer": "ipython3",
   "version": "3.8.12"
  }
 },
 "nbformat": 4,
 "nbformat_minor": 5
}
